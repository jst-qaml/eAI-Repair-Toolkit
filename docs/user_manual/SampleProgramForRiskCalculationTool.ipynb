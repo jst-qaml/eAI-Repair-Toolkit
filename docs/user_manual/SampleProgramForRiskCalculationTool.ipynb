{
 "cells": [
  {
   "cell_type": "markdown",
   "metadata": {},
   "source": [
    "## Setup\n"
   ]
  },
  {
   "cell_type": "markdown",
   "metadata": {},
   "source": [
    "### Environment\n",
    "Make sure your miniconda environment is `eai-repair` when you run this script.\n",
    "If you are in a different environment, reopen this notebook after entering `eai-repair` environment."
   ]
  },
  {
   "cell_type": "code",
   "execution_count": null,
   "metadata": {
    "execution": {
     "iopub.execute_input": "2022-12-15T04:58:11.323697Z",
     "iopub.status.busy": "2022-12-15T04:58:11.320652Z",
     "iopub.status.idle": "2022-12-15T04:58:12.706988Z",
     "shell.execute_reply": "2022-12-15T04:58:12.706294Z"
    }
   },
   "outputs": [],
   "source": [
    "!conda info -e"
   ]
  },
  {
   "cell_type": "markdown",
   "metadata": {},
   "source": [
    "### Prepare dataset and model\n",
    "\n",
    "Several folders are required to run this script.\n",
    "The `docs/bdd_image_extract/README.adoc` in this repository is described as Document-1 and `docs/user_manual/README.adoc` as Document-2.\n",
    "- Folder containing label files in scalabel format\n",
    "   - Using the terminology from this site ( https://doc.scalabel.ai/format.html ) , the label file must be a json file that satisfies the following conditions.\n",
    "      - The content of the json is an array of frames.\n",
    "      - Each frame element contains a name and attributes.\n",
    "   - This document covers the BDD2020 and is the result of the unpacking of `bdd100k_det_20_labels_trainval.zip` in `2. Berkley DeepDrive (BDD) Dataset` in Document-1.\n",
    "   - Used for option `scalabel_format_label_path`.\n",
    "- Execution result of `repair create_image_subset`\n",
    "   - For the target dataset (in this document, the BDD2020), this is the result of executing `3.3. Create image subset` in Document-1.\n",
    "   - Used for option `create_image_subset_output_path`.\n",
    "- Execution result of `repair prepare`\n",
    "   - For the target dataset (in this document, the BDD2020), this is the result of executing `2.6. Preparation` in Document-2.\n",
    "   - Used for option `h5_dataset_path`.\n",
    "- Model used for inference\n",
    "   - In this document, `datasets/BDD100K-Classification/model/VGG16` in repository `eAI-Repair-exp` is used.\n",
    "   - Used for option `model_dir`.\n",
    "   \n",
    "The following file structure shows the required files and their structure for this notebook.\n",
    "Subsequent scripts are implemented assuming that at least these files exist.\n",
    "These scripts work even if folders contain other files and folders.\n",
    "\n",
    "```bash\n",
    "$ !cd ../../ && tree ./outputs --filelimit 5\n",
    "\n",
    "./outputs\n",
    "├── VGG16\n",
    "│   ├── assets/\n",
    "│   ├── keras_metadata.pb\n",
    "│   ├── saved_model.pb\n",
    "│   └── variables/\n",
    "├── bdd100k\n",
    "│   └── labels\n",
    "│       └── det_20\n",
    "│           ├── det_train.json\n",
    "│           └── det_val.json\n",
    "├── create_image_subset_result\n",
    "│   ├── train [288964 entries exceeds filelimit, not opening dir]\n",
    "│   └── val [104918 entries exceeds filelimit, not opening dir]\n",
    "└── prepare_result\n",
    "    ├── repair.h5\n",
    "    ├── test.h5\n",
    "    └── train.h5\n",
    "```"
   ]
  },
  {
   "cell_type": "code",
   "execution_count": null,
   "metadata": {
    "execution": {
     "iopub.execute_input": "2022-12-15T04:58:12.713534Z",
     "iopub.status.busy": "2022-12-15T04:58:12.710250Z",
     "iopub.status.idle": "2022-12-15T04:58:20.303700Z",
     "shell.execute_reply": "2022-12-15T04:58:20.304183Z"
    }
   },
   "outputs": [],
   "source": [
    "# if　the result of below command contains above files, then future scripts should work fine.\n",
    "!cd ../../ && tree ./outputs --filelimit 5"
   ]
  },
  {
   "cell_type": "markdown",
   "metadata": {},
   "source": [
    "## Execute tool\n",
    "Not using the GPU will cause some error, etc, but the CPU will run instead.\n",
    "The following commands are prefixed with `cd ../../ &&` so that they are run from the top directory of the `eAI-Repair` repository."
   ]
  },
  {
   "cell_type": "code",
   "execution_count": null,
   "metadata": {
    "execution": {
     "iopub.execute_input": "2022-12-15T04:58:20.308944Z",
     "iopub.status.busy": "2022-12-15T04:58:20.307314Z",
     "iopub.status.idle": "2022-12-15T04:58:20.526164Z",
     "shell.execute_reply": "2022-12-15T04:58:20.526623Z"
    }
   },
   "outputs": [],
   "source": [
    "!cd ../../ && pwd"
   ]
  },
  {
   "cell_type": "markdown",
   "metadata": {},
   "source": [
    "### `calc_target=scene_prob`\n",
    "Calculate the probability of occurrence of a specific scene from Datasets.\n",
    "This time the output is formatted by specifying `--format_json=True` for readability."
   ]
  },
  {
   "cell_type": "code",
   "execution_count": 4,
   "metadata": {
    "execution": {
     "iopub.execute_input": "2022-12-15T04:58:20.534843Z",
     "iopub.status.busy": "2022-12-15T04:58:20.533007Z",
     "iopub.status.idle": "2022-12-15T04:58:44.708112Z",
     "shell.execute_reply": "2022-12-15T04:58:44.708437Z"
    }
   },
   "outputs": [
    {
     "name": "stdout",
     "output_type": "stream",
     "text": [
      "2022-12-15 04:58:20.887554: W tensorflow/stream_executor/platform/default/dso_loader.cc:64] Could not load dynamic library 'libcudart.so.11.0'; dlerror: libcudart.so.11.0: cannot open shared object file: No such file or directory\r\n",
      "reading folder of create_image_subset\r\n",
      "finished reading\r\n",
      "[Query]\r\n",
      "{\r\n",
      "    \"label\": \"2\",\r\n",
      "    \"weather\": \"rainy\",\r\n",
      "    \"timeofday\": \"dawn/dusk\"\r\n",
      "}\r\n",
      "[Summary of scene prob]\r\n",
      "{\r\n",
      "    \"total_image_count\": 393880,\r\n",
      "    \"image_count_matched_to_query\": 1184,\r\n",
      "    \"existence_rate\": 0.003005991672590637\r\n",
      "}\r\n"
     ]
    }
   ],
   "source": [
    "# Execute\n",
    "!cd ../../ && \\\n",
    "mkdir -p ./outputs/scene_prob/ && \\\n",
    "repair utils --dataset=BDD-Objects \\\n",
    "    --call risk_calculation_tool \\\n",
    "    --calc_target=scene_prob \\\n",
    "    --h5_dataset_path=./outputs/prepare_result/ \\\n",
    "    --create_image_subset_output_path=./outputs/create_image_subset_result/ \\\n",
    "    --output_dir=./outputs/scene_prob/ \\\n",
    "    --format_json=True \\\n",
    "    --scalabel_format_label_path=./outputs/bdd100k/labels/det_20/ \\\n",
    "    --label=car \\\n",
    "    --attributes=weather=rainy,timeofday=dawn/dusk"
   ]
  },
  {
   "cell_type": "code",
   "execution_count": 5,
   "metadata": {
    "execution": {
     "iopub.execute_input": "2022-12-15T04:58:44.712028Z",
     "iopub.status.busy": "2022-12-15T04:58:44.711566Z",
     "iopub.status.idle": "2022-12-15T04:58:44.903903Z",
     "shell.execute_reply": "2022-12-15T04:58:44.904195Z"
    }
   },
   "outputs": [
    {
     "name": "stdout",
     "output_type": "stream",
     "text": [
      "{\r\n",
      "    \"response\": {\r\n",
      "        \"query\": {\r\n",
      "            \"label\": \"2\",\r\n",
      "            \"weather\": \"rainy\",\r\n",
      "            \"timeofday\": \"dawn/dusk\"\r\n",
      "        },\r\n",
      "        \"scene_prob\": {\r\n",
      "            \"summary\": {\r\n",
      "                \"total_image_count\": 393880,\r\n",
      "                \"image_count_matched_to_query\": 1184,\r\n",
      "                \"existence_rate\": 0.003005991672590637\r\n",
      "            }\r\n",
      "        }\r\n",
      "    }\r\n",
      "}"
     ]
    }
   ],
   "source": [
    "# Read result\n",
    "!cd ../../ && cat ./outputs/scene_prob/results.json"
   ]
  },
  {
   "cell_type": "code",
   "execution_count": 6,
   "metadata": {
    "execution": {
     "iopub.execute_input": "2022-12-15T04:58:44.907947Z",
     "iopub.status.busy": "2022-12-15T04:58:44.906909Z",
     "iopub.status.idle": "2022-12-15T04:58:45.109312Z",
     "shell.execute_reply": "2022-12-15T04:58:45.108868Z"
    }
   },
   "outputs": [
    {
     "name": "stdout",
     "output_type": "stream",
     "text": [
      "1184\r\n"
     ]
    }
   ],
   "source": [
    "# Read result: A folder containing images that match the query\n",
    "!cd ../../ && ls -1 ./outputs/scene_prob/matched_data | wc -l"
   ]
  },
  {
   "cell_type": "code",
   "execution_count": 7,
   "metadata": {
    "execution": {
     "iopub.execute_input": "2022-12-15T04:58:45.112615Z",
     "iopub.status.busy": "2022-12-15T04:58:45.112198Z",
     "iopub.status.idle": "2022-12-15T04:58:45.302292Z",
     "shell.execute_reply": "2022-12-15T04:58:45.301904Z"
    }
   },
   "outputs": [
    {
     "name": "stdout",
     "output_type": "stream",
     "text": [
      "1000810_8cc99f48-ca215966.jpg\r\n",
      "1000811_8cc99f48-ca215966.jpg\r\n",
      "1002699_8d18f11d-2d2299e7.jpg\r\n",
      "1008112_8dd654ee-75143ef0.jpg\r\n",
      "1008113_8dd654ee-75143ef0.jpg\r\n",
      "100958_0e587038-3a0073a1.jpg\r\n",
      "1015320_8ec8ab14-277df119.jpg\r\n",
      "1015322_8ec8ab14-277df119.jpg\r\n",
      "1015334_8ec8ab14-277df119.jpg\r\n",
      "1035386_9195066c-31518c7b.jpg\r\n",
      "ls: write error: Broken pipe\r\n"
     ]
    }
   ],
   "source": [
    "!cd ../../ && ls -1 ./outputs/scene_prob/matched_data | head"
   ]
  },
  {
   "cell_type": "markdown",
   "metadata": {},
   "source": [
    "### `calc_target=miss_rate`\n",
    "Calculate the misrecognition rate for a given trained model on a specific dataset."
   ]
  },
  {
   "cell_type": "code",
   "execution_count": 5,
   "metadata": {
    "execution": {
     "iopub.execute_input": "2022-12-15T04:58:45.307293Z",
     "iopub.status.busy": "2022-12-15T04:58:45.306514Z",
     "iopub.status.idle": "2022-12-15T05:30:45.240286Z",
     "shell.execute_reply": "2022-12-15T05:30:45.240739Z"
    }
   },
   "outputs": [
    {
     "name": "stdout",
     "output_type": "stream",
     "text": [
      "2022-12-15 06:24:06.037811: W tensorflow/stream_executor/platform/default/dso_loader.cc:64] Could not load dynamic library 'libcudart.so.11.0'; dlerror: libcudart.so.11.0: cannot open shared object file: No such file or directory\n",
      "reading folder of create_image_subset\n",
      "finished reading\n",
      "start predict\n",
      "2022-12-15 06:25:31.813602: E tensorflow/stream_executor/cuda/cuda_driver.cc:271] failed call to cuInit: CUDA_ERROR_NO_DEVICE: no CUDA-capable device is detected\n",
      "100%|██████████████████████████████████| 393880/393880 [31:27<00:00, 254.61it/s]finished predict\n",
      "[Summary of miss rate]\n",
      "{\n",
      "    \"0\": {\n",
      "        \"total_image_count\": 6980,\n",
      "        \"misrecognized_image_count\": 1366,\n",
      "        \"misrecognized_rate\": 0.19570200573065902\n",
      "    },\n",
      "    \"1\": {\n",
      "        \"total_image_count\": 12139,\n",
      "        \"misrecognized_image_count\": 5378,\n",
      "        \"misrecognized_rate\": 0.44303484636296236\n",
      "    },\n",
      "    \"2\": {\n",
      "        \"total_image_count\": 225941,\n",
      "        \"misrecognized_image_count\": 11883,\n",
      "        \"misrecognized_rate\": 0.0525933761468702\n",
      "    },\n",
      "    \"3\": {\n",
      "        \"total_image_count\": 2709,\n",
      "        \"misrecognized_image_count\": 1621,\n",
      "        \"misrecognized_rate\": 0.598375784422296\n",
      "    },\n",
      "    \"4\": {\n",
      "        \"total_image_count\": 0,\n",
      "        \"misrecognized_image_count\": 0,\n",
      "        \"misrecognized_rate\": 0\n",
      "    },\n",
      "    \"5\": {\n",
      "        \"total_image_count\": 0,\n",
      "        \"misrecognized_image_count\": 0,\n",
      "        \"misrecognized_rate\": 0\n",
      "    },\n",
      "    \"6\": {\n",
      "        \"total_image_count\": 35452,\n",
      "        \"misrecognized_image_count\": 4540,\n",
      "        \"misrecognized_rate\": 0.12806047613674829\n",
      "    },\n",
      "    \"7\": {\n",
      "        \"total_image_count\": 4056,\n",
      "        \"misrecognized_image_count\": 2012,\n",
      "        \"misrecognized_rate\": 0.4960552268244576\n",
      "    },\n",
      "    \"8\": {\n",
      "        \"total_image_count\": 31999,\n",
      "        \"misrecognized_image_count\": 1713,\n",
      "        \"misrecognized_rate\": 0.05353292290384074\n",
      "    },\n",
      "    \"9\": {\n",
      "        \"total_image_count\": 46580,\n",
      "        \"misrecognized_image_count\": 2535,\n",
      "        \"misrecognized_rate\": 0.05442249892657793\n",
      "    },\n",
      "    \"10\": {\n",
      "        \"total_image_count\": 0,\n",
      "        \"misrecognized_image_count\": 0,\n",
      "        \"misrecognized_rate\": 0\n",
      "    },\n",
      "    \"11\": {\n",
      "        \"total_image_count\": 0,\n",
      "        \"misrecognized_image_count\": 0,\n",
      "        \"misrecognized_rate\": 0\n",
      "    },\n",
      "    \"12\": {\n",
      "        \"total_image_count\": 28024,\n",
      "        \"misrecognized_image_count\": 8798,\n",
      "        \"misrecognized_rate\": 0.3139451898372823\n",
      "    }\n",
      "}\n",
      "100%|██████████████████████████████████| 393880/393880 [31:40<00:00, 254.61it/s]"
     ]
    }
   ],
   "source": [
    "# Execute\n",
    "!cd ../../ && \\\n",
    "mkdir -p ./outputs/miss_rate/ && \\\n",
    "CUDA_VISIBLE_DEVICES=-1 repair utils --dataset=BDD-Objects \\\n",
    "    --call risk_calculation_tool \\\n",
    "    --calc_target=miss_rate \\\n",
    "    --h5_dataset_path=./outputs/prepare_result \\\n",
    "    --create_image_subset_output_path=./outputs/create_image_subset_result/ \\\n",
    "    --output_dir=./outputs/miss_rate/ \\\n",
    "    --format_json=True \\\n",
    "    --model_dir=./outputs/VGG16/"
   ]
  },
  {
   "cell_type": "code",
   "execution_count": 6,
   "metadata": {
    "execution": {
     "iopub.execute_input": "2022-12-15T05:30:45.248235Z",
     "iopub.status.busy": "2022-12-15T05:30:45.245774Z",
     "iopub.status.idle": "2022-12-15T05:30:45.440216Z",
     "shell.execute_reply": "2022-12-15T05:30:45.439827Z"
    }
   },
   "outputs": [
    {
     "name": "stdout",
     "output_type": "stream",
     "text": [
      "{\r\n",
      "    \"response\": {\r\n",
      "        \"miss_rate\": {\r\n",
      "            \"summary\": {\r\n",
      "                \"0\": {\r\n",
      "                    \"total_image_count\": 6980,\r\n",
      "                    \"misrecognized_image_count\": 1366,\r\n",
      "                    \"misrecognized_rate\": 0.19570200573065902\r\n",
      "                },\r\n",
      "                \"1\": {\r\n",
      "                    \"total_image_count\": 12139,\r\n",
      "                    \"misrecognized_image_count\": 5378,\r\n",
      "                    \"misrecognized_rate\": 0.44303484636296236\r\n",
      "                },\r\n",
      "                \"2\": {\r\n",
      "                    \"total_image_count\": 225941,\r\n",
      "                    \"misrecognized_image_count\": 11883,\r\n",
      "                    \"misrecognized_rate\": 0.0525933761468702\r\n",
      "                },\r\n",
      "                \"3\": {\r\n",
      "                    \"total_image_count\": 2709,\r\n",
      "                    \"misrecognized_image_count\": 1621,\r\n",
      "                    \"misrecognized_rate\": 0.598375784422296\r\n",
      "                },\r\n",
      "                \"4\": {\r\n",
      "                    \"total_image_count\": 0,\r\n",
      "                    \"misrecognized_image_count\": 0,\r\n",
      "                    \"misrecognized_rate\": 0\r\n",
      "                },\r\n",
      "                \"5\": {\r\n",
      "                    \"total_image_count\": 0,\r\n",
      "                    \"misrecognized_image_count\": 0,\r\n",
      "                    \"misrecognized_rate\": 0\r\n",
      "                },\r\n",
      "                \"6\": {\r\n",
      "                    \"total_image_count\": 35452,\r\n",
      "                    \"misrecognized_image_count\": 4540,\r\n",
      "                    \"misrecognized_rate\": 0.12806047613674829\r\n",
      "                },\r\n",
      "                \"7\": {\r\n",
      "                    \"total_image_count\": 4056,\r\n",
      "                    \"misrecognized_image_count\": 2012,\r\n",
      "                    \"misrecognized_rate\": 0.4960552268244576\r\n",
      "                },\r\n",
      "                \"8\": {\r\n",
      "                    \"total_image_count\": 31999,\r\n",
      "                    \"misrecognized_image_count\": 1713,\r\n",
      "                    \"misrecognized_rate\": 0.05353292290384074\r\n",
      "                },\r\n",
      "                \"9\": {\r\n",
      "                    \"total_image_count\": 46580,\r\n",
      "                    \"misrecognized_image_count\": 2535,\r\n",
      "                    \"misrecognized_rate\": 0.05442249892657793\r\n",
      "                },\r\n",
      "                \"10\": {\r\n",
      "                    \"total_image_count\": 0,\r\n",
      "                    \"misrecognized_image_count\": 0,\r\n",
      "                    \"misrecognized_rate\": 0\r\n",
      "                },\r\n",
      "                \"11\": {\r\n",
      "                    \"total_image_count\": 0,\r\n",
      "                    \"misrecognized_image_count\": 0,\r\n",
      "                    \"misrecognized_rate\": 0\r\n",
      "                },\r\n",
      "                \"12\": {\r\n",
      "                    \"total_image_count\": 28024,\r\n",
      "                    \"misrecognized_image_count\": 8798,\r\n",
      "                    \"misrecognized_rate\": 0.3139451898372823\r\n",
      "                }\r\n",
      "            },\r\n",
      "            \"confusion_matrix\": [\r\n",
      "                [\r\n",
      "                    5614,\r\n",
      "                    9,\r\n",
      "                    547,\r\n",
      "                    144,\r\n",
      "                    0,\r\n",
      "                    0,\r\n",
      "                    400,\r\n",
      "                    72,\r\n",
      "                    26,\r\n",
      "                    85,\r\n",
      "                    0,\r\n",
      "                    0,\r\n",
      "                    83\r\n",
      "                ],\r\n",
      "                [\r\n",
      "                    50,\r\n",
      "                    6761,\r\n",
      "                    2151,\r\n",
      "                    1,\r\n",
      "                    0,\r\n",
      "                    0,\r\n",
      "                    46,\r\n",
      "                    3,\r\n",
      "                    24,\r\n",
      "                    252,\r\n",
      "                    0,\r\n",
      "                    0,\r\n",
      "                    2851\r\n",
      "                ],\r\n",
      "                [\r\n",
      "                    721,\r\n",
      "                    1787,\r\n",
      "                    214058,\r\n",
      "                    232,\r\n",
      "                    0,\r\n",
      "                    0,\r\n",
      "                    1269,\r\n",
      "                    208,\r\n",
      "                    335,\r\n",
      "                    1026,\r\n",
      "                    0,\r\n",
      "                    0,\r\n",
      "                    6305\r\n",
      "                ],\r\n",
      "                [\r\n",
      "                    501,\r\n",
      "                    4,\r\n",
      "                    722,\r\n",
      "                    1088,\r\n",
      "                    0,\r\n",
      "                    0,\r\n",
      "                    170,\r\n",
      "                    90,\r\n",
      "                    42,\r\n",
      "                    24,\r\n",
      "                    0,\r\n",
      "                    0,\r\n",
      "                    68\r\n",
      "                ],\r\n",
      "                [\r\n",
      "                    0,\r\n",
      "                    0,\r\n",
      "                    0,\r\n",
      "                    0,\r\n",
      "                    0,\r\n",
      "                    0,\r\n",
      "                    0,\r\n",
      "                    0,\r\n",
      "                    0,\r\n",
      "                    0,\r\n",
      "                    0,\r\n",
      "                    0,\r\n",
      "                    0\r\n",
      "                ],\r\n",
      "                [\r\n",
      "                    0,\r\n",
      "                    0,\r\n",
      "                    0,\r\n",
      "                    0,\r\n",
      "                    0,\r\n",
      "                    0,\r\n",
      "                    0,\r\n",
      "                    0,\r\n",
      "                    0,\r\n",
      "                    0,\r\n",
      "                    0,\r\n",
      "                    0,\r\n",
      "                    0\r\n",
      "                ],\r\n",
      "                [\r\n",
      "                    752,\r\n",
      "                    33,\r\n",
      "                    1845,\r\n",
      "                    81,\r\n",
      "                    0,\r\n",
      "                    0,\r\n",
      "                    30912,\r\n",
      "                    1024,\r\n",
      "                    233,\r\n",
      "                    278,\r\n",
      "                    0,\r\n",
      "                    0,\r\n",
      "                    294\r\n",
      "                ],\r\n",
      "                [\r\n",
      "                    189,\r\n",
      "                    1,\r\n",
      "                    457,\r\n",
      "                    66,\r\n",
      "                    0,\r\n",
      "                    0,\r\n",
      "                    1164,\r\n",
      "                    2044,\r\n",
      "                    19,\r\n",
      "                    35,\r\n",
      "                    0,\r\n",
      "                    0,\r\n",
      "                    81\r\n",
      "                ],\r\n",
      "                [\r\n",
      "                    49,\r\n",
      "                    28,\r\n",
      "                    401,\r\n",
      "                    20,\r\n",
      "                    0,\r\n",
      "                    0,\r\n",
      "                    220,\r\n",
      "                    20,\r\n",
      "                    30286,\r\n",
      "                    820,\r\n",
      "                    0,\r\n",
      "                    0,\r\n",
      "                    155\r\n",
      "                ],\r\n",
      "                [\r\n",
      "                    90,\r\n",
      "                    69,\r\n",
      "                    854,\r\n",
      "                    5,\r\n",
      "                    0,\r\n",
      "                    0,\r\n",
      "                    214,\r\n",
      "                    11,\r\n",
      "                    761,\r\n",
      "                    44045,\r\n",
      "                    0,\r\n",
      "                    0,\r\n",
      "                    531\r\n",
      "                ],\r\n",
      "                [\r\n",
      "                    0,\r\n",
      "                    0,\r\n",
      "                    0,\r\n",
      "                    0,\r\n",
      "                    0,\r\n",
      "                    0,\r\n",
      "                    0,\r\n",
      "                    0,\r\n",
      "                    0,\r\n",
      "                    0,\r\n",
      "                    0,\r\n",
      "                    0,\r\n",
      "                    0\r\n",
      "                ],\r\n",
      "                [\r\n",
      "                    0,\r\n",
      "                    0,\r\n",
      "                    0,\r\n",
      "                    0,\r\n",
      "                    0,\r\n",
      "                    0,\r\n",
      "                    0,\r\n",
      "                    0,\r\n",
      "                    0,\r\n",
      "                    0,\r\n",
      "                    0,\r\n",
      "                    0,\r\n",
      "                    0\r\n",
      "                ],\r\n",
      "                [\r\n",
      "                    147,\r\n",
      "                    1489,\r\n",
      "                    6204,\r\n",
      "                    18,\r\n",
      "                    0,\r\n",
      "                    0,\r\n",
      "                    135,\r\n",
      "                    23,\r\n",
      "                    86,\r\n",
      "                    696,\r\n",
      "                    0,\r\n",
      "                    0,\r\n",
      "                    19226\r\n",
      "                ]\r\n",
      "            ]\r\n",
      "        }\r\n",
      "    }\r\n",
      "}"
     ]
    }
   ],
   "source": [
    "# Read result\n",
    "!cd ../../ && fold ./outputs/miss_rate/results.json"
   ]
  },
  {
   "cell_type": "code",
   "execution_count": 7,
   "metadata": {
    "execution": {
     "iopub.execute_input": "2022-12-15T05:30:45.443153Z",
     "iopub.status.busy": "2022-12-15T05:30:45.442729Z",
     "iopub.status.idle": "2022-12-15T05:30:45.812069Z",
     "shell.execute_reply": "2022-12-15T05:30:45.811488Z"
    }
   },
   "outputs": [
    {
     "name": "stdout",
     "output_type": "stream",
     "text": [
      "\u001b[01;34m./outputs/miss_rate/misrecognision_data\u001b[00m\r\n",
      "├── \u001b[01;34m0\u001b[00m\r\n",
      "│   ├── \u001b[01;34m1\u001b[00m\r\n",
      "│   ├── \u001b[01;34m12\u001b[00m\r\n",
      "│   ├── \u001b[01;34m2\u001b[00m\r\n",
      "│   ├── \u001b[01;34m3\u001b[00m\r\n",
      "│   ├── \u001b[01;34m6\u001b[00m\r\n",
      "│   ├── \u001b[01;34m7\u001b[00m\r\n",
      "│   ├── \u001b[01;34m8\u001b[00m\r\n",
      "│   └── \u001b[01;34m9\u001b[00m\r\n",
      "├── \u001b[01;34m1\u001b[00m\r\n",
      "│   ├── \u001b[01;34m0\u001b[00m\r\n",
      "│   ├── \u001b[01;34m12\u001b[00m\r\n",
      "│   ├── \u001b[01;34m2\u001b[00m\r\n",
      "│   ├── \u001b[01;34m3\u001b[00m\r\n",
      "│   ├── \u001b[01;34m6\u001b[00m\r\n",
      "│   ├── \u001b[01;34m7\u001b[00m\r\n",
      "│   ├── \u001b[01;34m8\u001b[00m\r\n",
      "│   └── \u001b[01;34m9\u001b[00m\r\n",
      "├── \u001b[01;34m12\u001b[00m\r\n",
      "│   ├── \u001b[01;34m0\u001b[00m\r\n",
      "│   ├── \u001b[01;34m1\u001b[00m\r\n",
      "│   ├── \u001b[01;34m2\u001b[00m\r\n",
      "│   ├── \u001b[01;34m3\u001b[00m\r\n",
      "│   ├── \u001b[01;34m6\u001b[00m\r\n",
      "│   ├── \u001b[01;34m7\u001b[00m\r\n",
      "│   ├── \u001b[01;34m8\u001b[00m\r\n",
      "│   └── \u001b[01;34m9\u001b[00m\r\n",
      "├── \u001b[01;34m2\u001b[00m\r\n",
      "│   ├── \u001b[01;34m0\u001b[00m\r\n",
      "│   ├── \u001b[01;34m1\u001b[00m\r\n",
      "│   ├── \u001b[01;34m12\u001b[00m\r\n",
      "│   ├── \u001b[01;34m3\u001b[00m\r\n",
      "│   ├── \u001b[01;34m6\u001b[00m\r\n",
      "│   ├── \u001b[01;34m7\u001b[00m\r\n",
      "│   ├── \u001b[01;34m8\u001b[00m\r\n",
      "│   └── \u001b[01;34m9\u001b[00m\r\n",
      "├── \u001b[01;34m3\u001b[00m\r\n",
      "│   ├── \u001b[01;34m0\u001b[00m\r\n",
      "│   ├── \u001b[01;34m1\u001b[00m\r\n",
      "│   ├── \u001b[01;34m12\u001b[00m\r\n",
      "│   ├── \u001b[01;34m2\u001b[00m\r\n",
      "│   ├── \u001b[01;34m6\u001b[00m\r\n",
      "│   ├── \u001b[01;34m7\u001b[00m\r\n",
      "│   ├── \u001b[01;34m8\u001b[00m\r\n",
      "│   └── \u001b[01;34m9\u001b[00m\r\n",
      "├── \u001b[01;34m6\u001b[00m\r\n",
      "│   ├── \u001b[01;34m0\u001b[00m\r\n",
      "│   ├── \u001b[01;34m1\u001b[00m\r\n",
      "│   ├── \u001b[01;34m12\u001b[00m\r\n",
      "│   ├── \u001b[01;34m2\u001b[00m\r\n",
      "│   ├── \u001b[01;34m3\u001b[00m\r\n",
      "│   ├── \u001b[01;34m7\u001b[00m\r\n",
      "│   ├── \u001b[01;34m8\u001b[00m\r\n",
      "│   └── \u001b[01;34m9\u001b[00m\r\n",
      "├── \u001b[01;34m7\u001b[00m\r\n",
      "│   ├── \u001b[01;34m0\u001b[00m\r\n",
      "│   ├── \u001b[01;34m1\u001b[00m\r\n",
      "│   ├── \u001b[01;34m12\u001b[00m\r\n",
      "│   ├── \u001b[01;34m2\u001b[00m\r\n",
      "│   ├── \u001b[01;34m3\u001b[00m\r\n",
      "│   ├── \u001b[01;34m6\u001b[00m\r\n",
      "│   ├── \u001b[01;34m8\u001b[00m\r\n",
      "│   └── \u001b[01;34m9\u001b[00m\r\n",
      "├── \u001b[01;34m8\u001b[00m\r\n",
      "│   ├── \u001b[01;34m0\u001b[00m\r\n",
      "│   ├── \u001b[01;34m1\u001b[00m\r\n",
      "│   ├── \u001b[01;34m12\u001b[00m\r\n",
      "│   ├── \u001b[01;34m2\u001b[00m\r\n",
      "│   ├── \u001b[01;34m3\u001b[00m\r\n",
      "│   ├── \u001b[01;34m6\u001b[00m\r\n",
      "│   ├── \u001b[01;34m7\u001b[00m\r\n",
      "│   └── \u001b[01;34m9\u001b[00m\r\n",
      "└── \u001b[01;34m9\u001b[00m\r\n",
      "    ├── \u001b[01;34m0\u001b[00m\r\n",
      "    ├── \u001b[01;34m1\u001b[00m\r\n",
      "    ├── \u001b[01;34m12\u001b[00m\r\n",
      "    ├── \u001b[01;34m2\u001b[00m\r\n",
      "    ├── \u001b[01;34m3\u001b[00m\r\n",
      "    ├── \u001b[01;34m6\u001b[00m\r\n",
      "    ├── \u001b[01;34m7\u001b[00m\r\n",
      "    └── \u001b[01;34m8\u001b[00m\r\n",
      "\r\n",
      "81 directories, 0 files\r\n"
     ]
    }
   ],
   "source": [
    "# Read result: A folder containing misrecognized images\n",
    "!cd ../../&& tree ./outputs/miss_rate/misrecognision_data -L 2"
   ]
  },
  {
   "cell_type": "code",
   "execution_count": 15,
   "metadata": {
    "execution": {
     "iopub.execute_input": "2022-12-15T05:30:45.816647Z",
     "iopub.status.busy": "2022-12-15T05:30:45.815076Z",
     "iopub.status.idle": "2022-12-15T05:30:46.208033Z",
     "shell.execute_reply": "2022-12-15T05:30:46.208495Z"
    }
   },
   "outputs": [
    {
     "name": "stdout",
     "output_type": "stream",
     "text": [
      "1059039_9542db5e-dea288c8.jpg\r\n",
      "1240245_addf601d-df742bd4.jpg\r\n",
      "1240877_adf9e7c8-17566506.jpg\r\n",
      "125749_c2ab5734-0f552875.jpg\r\n",
      "152273_c605bc6e-a4a48e5c.jpg\r\n"
     ]
    }
   ],
   "source": [
    "# Read result: Inner of a folder containing misrecognized images\n",
    "!cd ../../&& ls -1 ./outputs/miss_rate/misrecognision_data/0/1 |  head -n 5"
   ]
  },
  {
   "cell_type": "markdown",
   "metadata": {},
   "source": [
    "### `calc_target=scene_prob_and_miss_rate`\n",
    "Output the results of both `calc_target=scene_prob` and `calc_target=miss_rate`.\n",
    "Since it is not necessary to specify `--format_json=True` when combining with other tools, let's look at the output in that case."
   ]
  },
  {
   "cell_type": "code",
   "execution_count": 9,
   "metadata": {
    "execution": {
     "iopub.execute_input": "2022-12-15T05:30:46.217589Z",
     "iopub.status.busy": "2022-12-15T05:30:46.217030Z",
     "iopub.status.idle": "2022-12-15T05:32:51.991276Z",
     "shell.execute_reply": "2022-12-15T05:32:51.990628Z"
    }
   },
   "outputs": [
    {
     "name": "stdout",
     "output_type": "stream",
     "text": [
      "2022-12-15 07:00:54.633310: W tensorflow/stream_executor/platform/default/dso_loader.cc:64] Could not load dynamic library 'libcudart.so.11.0'; dlerror: libcudart.so.11.0: cannot open shared object file: No such file or directory\n",
      "reading folder of create_image_subset\n",
      "finished reading\n",
      "[Query]\n",
      "{\n",
      "    \"label\": \"2\",\n",
      "    \"weather\": \"rainy\",\n",
      "    \"timeofday\": \"dawn/dusk\"\n",
      "}\n",
      "[Summary of scene prob]\n",
      "{\n",
      "    \"total_image_count\": 393880,\n",
      "    \"image_count_matched_to_query\": 1184,\n",
      "    \"existence_rate\": 0.003005991672590637\n",
      "}\n",
      "start predict\n",
      "2022-12-15 07:02:20.989787: E tensorflow/stream_executor/cuda/cuda_driver.cc:271] failed call to cuInit: CUDA_ERROR_NO_DEVICE: no CUDA-capable device is detected\n",
      "100%|███████████████████████████████████████| 1184/1184 [00:45<00:00, 20.91it/s]finished predict\n",
      "[Summary of miss rate]\n",
      "{\n",
      "    \"0\": {\n",
      "        \"total_image_count\": 0,\n",
      "        \"misrecognized_image_count\": 0,\n",
      "        \"misrecognized_rate\": 0\n",
      "    },\n",
      "    \"1\": {\n",
      "        \"total_image_count\": 0,\n",
      "        \"misrecognized_image_count\": 0,\n",
      "        \"misrecognized_rate\": 0\n",
      "    },\n",
      "    \"2\": {\n",
      "        \"total_image_count\": 1184,\n",
      "        \"misrecognized_image_count\": 64,\n",
      "        \"misrecognized_rate\": 0.05405405405405406\n",
      "    },\n",
      "    \"3\": {\n",
      "        \"total_image_count\": 0,\n",
      "        \"misrecognized_image_count\": 0,\n",
      "        \"misrecognized_rate\": 0\n",
      "    },\n",
      "    \"4\": {\n",
      "        \"total_image_count\": 0,\n",
      "        \"misrecognized_image_count\": 0,\n",
      "        \"misrecognized_rate\": 0\n",
      "    },\n",
      "    \"5\": {\n",
      "        \"total_image_count\": 0,\n",
      "        \"misrecognized_image_count\": 0,\n",
      "        \"misrecognized_rate\": 0\n",
      "    },\n",
      "    \"6\": {\n",
      "        \"total_image_count\": 0,\n",
      "        \"misrecognized_image_count\": 0,\n",
      "        \"misrecognized_rate\": 0\n",
      "    },\n",
      "    \"7\": {\n",
      "        \"total_image_count\": 0,\n",
      "        \"misrecognized_image_count\": 0,\n",
      "        \"misrecognized_rate\": 0\n",
      "    },\n",
      "    \"8\": {\n",
      "        \"total_image_count\": 0,\n",
      "        \"misrecognized_image_count\": 0,\n",
      "        \"misrecognized_rate\": 0\n",
      "    },\n",
      "    \"9\": {\n",
      "        \"total_image_count\": 0,\n",
      "        \"misrecognized_image_count\": 0,\n",
      "        \"misrecognized_rate\": 0\n",
      "    },\n",
      "    \"10\": {\n",
      "        \"total_image_count\": 0,\n",
      "        \"misrecognized_image_count\": 0,\n",
      "        \"misrecognized_rate\": 0\n",
      "    },\n",
      "    \"11\": {\n",
      "        \"total_image_count\": 0,\n",
      "        \"misrecognized_image_count\": 0,\n",
      "        \"misrecognized_rate\": 0\n",
      "    },\n",
      "    \"12\": {\n",
      "        \"total_image_count\": 0,\n",
      "        \"misrecognized_image_count\": 0,\n",
      "        \"misrecognized_rate\": 0\n",
      "    }\n",
      "}\n"
     ]
    }
   ],
   "source": [
    "# Execute\n",
    "!cd ../../ && \\\n",
    "mkdir -p ./outputs/scene_prob_and_miss_rate/ && \\\n",
    "CUDA_VISIBLE_DEVICES=-1 repair utils --dataset=BDD-Objects \\\n",
    "    --call risk_calculation_tool \\\n",
    "    --calc_target=scene_prob_and_miss_rate \\\n",
    "    --h5_dataset_path=./outputs/prepare_result \\\n",
    "    --create_image_subset_output_path=./outputs/create_image_subset_result/ \\\n",
    "    --output_dir=./outputs/scene_prob_and_miss_rate/ \\\n",
    "    --scalabel_format_label_path=./outputs/bdd100k/labels/det_20/ \\\n",
    "    --label=car \\\n",
    "    --attributes=weather=rainy,timeofday=dawn/dusk \\\n",
    "    --model_dir=./outputs/VGG16/"
   ]
  },
  {
   "cell_type": "code",
   "execution_count": 10,
   "metadata": {
    "execution": {
     "iopub.execute_input": "2022-12-15T05:32:51.996912Z",
     "iopub.status.busy": "2022-12-15T05:32:51.994847Z",
     "iopub.status.idle": "2022-12-15T05:32:52.189369Z",
     "shell.execute_reply": "2022-12-15T05:32:52.189685Z"
    }
   },
   "outputs": [
    {
     "name": "stdout",
     "output_type": "stream",
     "text": [
      "{\"response\": {\"query\": {\"label\": \"2\", \"weather\": \"rainy\", \"timeofday\": \"dawn/dus\r\n",
      "k\"}, \"scene_prob\": {\"summary\": {\"total_image_count\": 393880, \"image_count_matche\r\n",
      "d_to_query\": 1184, \"existence_rate\": 0.003005991672590637}}, \"miss_rate\": {\"summ\r\n",
      "ary\": {\"0\": {\"total_image_count\": 0, \"misrecognized_image_count\": 0, \"misrecogni\r\n",
      "zed_rate\": 0}, \"1\": {\"total_image_count\": 0, \"misrecognized_image_count\": 0, \"mi\r\n",
      "srecognized_rate\": 0}, \"2\": {\"total_image_count\": 1184, \"misrecognized_image_cou\r\n",
      "nt\": 64, \"misrecognized_rate\": 0.05405405405405406}, \"3\": {\"total_image_count\": \r\n",
      "0, \"misrecognized_image_count\": 0, \"misrecognized_rate\": 0}, \"4\": {\"total_image_\r\n",
      "count\": 0, \"misrecognized_image_count\": 0, \"misrecognized_rate\": 0}, \"5\": {\"tota\r\n",
      "l_image_count\": 0, \"misrecognized_image_count\": 0, \"misrecognized_rate\": 0}, \"6\"\r\n",
      ": {\"total_image_count\": 0, \"misrecognized_image_count\": 0, \"misrecognized_rate\":\r\n",
      " 0}, \"7\": {\"total_image_count\": 0, \"misrecognized_image_count\": 0, \"misrecognize\r\n",
      "d_rate\": 0}, \"8\": {\"total_image_count\": 0, \"misrecognized_image_count\": 0, \"misr\r\n",
      "ecognized_rate\": 0}, \"9\": {\"total_image_count\": 0, \"misrecognized_image_count\": \r\n",
      "0, \"misrecognized_rate\": 0}, \"10\": {\"total_image_count\": 0, \"misrecognized_image\r\n",
      "_count\": 0, \"misrecognized_rate\": 0}, \"11\": {\"total_image_count\": 0, \"misrecogni\r\n",
      "zed_image_count\": 0, \"misrecognized_rate\": 0}, \"12\": {\"total_image_count\": 0, \"m\r\n",
      "isrecognized_image_count\": 0, \"misrecognized_rate\": 0}}, \"confusion_matrix\": [[0\r\n",
      ", 0, 0, 0, 0, 0, 0, 0, 0, 0, 0, 0, 0], [0, 0, 0, 0, 0, 0, 0, 0, 0, 0, 0, 0, 0], \r\n",
      "[2, 6, 1120, 1, 0, 0, 4, 2, 2, 8, 0, 0, 39], [0, 0, 0, 0, 0, 0, 0, 0, 0, 0, 0, 0\r\n",
      ", 0], [0, 0, 0, 0, 0, 0, 0, 0, 0, 0, 0, 0, 0], [0, 0, 0, 0, 0, 0, 0, 0, 0, 0, 0,\r\n",
      " 0, 0], [0, 0, 0, 0, 0, 0, 0, 0, 0, 0, 0, 0, 0], [0, 0, 0, 0, 0, 0, 0, 0, 0, 0, \r\n",
      "0, 0, 0], [0, 0, 0, 0, 0, 0, 0, 0, 0, 0, 0, 0, 0], [0, 0, 0, 0, 0, 0, 0, 0, 0, 0\r\n",
      ", 0, 0, 0], [0, 0, 0, 0, 0, 0, 0, 0, 0, 0, 0, 0, 0], [0, 0, 0, 0, 0, 0, 0, 0, 0,\r\n",
      " 0, 0, 0, 0], [0, 0, 0, 0, 0, 0, 0, 0, 0, 0, 0, 0, 0]]}}}"
     ]
    }
   ],
   "source": [
    "# Read result\n",
    "!cd ../../ && fold ./outputs/scene_prob_and_miss_rate/results.json"
   ]
  },
  {
   "cell_type": "code",
   "execution_count": 17,
   "metadata": {
    "execution": {
     "iopub.execute_input": "2022-12-15T05:32:52.193776Z",
     "iopub.status.busy": "2022-12-15T05:32:52.192471Z",
     "iopub.status.idle": "2022-12-15T05:32:52.564229Z",
     "shell.execute_reply": "2022-12-15T05:32:52.563598Z"
    }
   },
   "outputs": [
    {
     "name": "stdout",
     "output_type": "stream",
     "text": [
      "1000810_8cc99f48-ca215966.jpg\r\n",
      "1000811_8cc99f48-ca215966.jpg\r\n",
      "1002699_8d18f11d-2d2299e7.jpg\r\n",
      "1008112_8dd654ee-75143ef0.jpg\r\n",
      "1008113_8dd654ee-75143ef0.jpg\r\n",
      "ls: write error: Broken pipe\r\n"
     ]
    }
   ],
   "source": [
    "# Read result: A folder containing images that match the query\n",
    "!cd ../../ && ls -1 ./outputs/scene_prob_and_miss_rate/matched_data | head -n 5"
   ]
  },
  {
   "cell_type": "code",
   "execution_count": 12,
   "metadata": {
    "execution": {
     "iopub.execute_input": "2022-12-15T05:32:52.568020Z",
     "iopub.status.busy": "2022-12-15T05:32:52.567459Z",
     "iopub.status.idle": "2022-12-15T05:32:52.960769Z",
     "shell.execute_reply": "2022-12-15T05:32:52.960006Z"
    }
   },
   "outputs": [
    {
     "name": "stdout",
     "output_type": "stream",
     "text": [
      "\u001b[01;34m./outputs/scene_prob_and_miss_rate/misrecognision_data\u001b[00m\r\n",
      "└── \u001b[01;34m2\u001b[00m\r\n",
      "    ├── \u001b[01;34m0\u001b[00m\r\n",
      "    │   ├── \u001b[01;35m130946_c359e7b1-5b68aea4.jpg\u001b[00m\r\n",
      "    │   └── \u001b[01;35m16780_b41ace08-830c808c.jpg\u001b[00m\r\n",
      "    ├── \u001b[01;34m1\u001b[00m\r\n",
      "    │   ├── \u001b[01;35m154046_15f89ba0-d8a70cb4.jpg\u001b[00m\r\n",
      "    │   ├── \u001b[01;35m160017_c70a8ace-931896fd.jpg\u001b[00m\r\n",
      "    │   ├── \u001b[01;35m48831_b83d28bd-a9ab3f1d.jpg\u001b[00m\r\n",
      "    │   ├── \u001b[01;35m517041_491a8e99-8665cd7b.jpg\u001b[00m\r\n",
      "    │   ├── \u001b[01;35m610894_56180d13-fc15b5bf.jpg\u001b[00m\r\n",
      "    │   └── \u001b[01;35m818523_73760969-aea6a396.jpg\u001b[00m\r\n",
      "    ├── \u001b[01;34m12\u001b[00m\r\n",
      "    │   ├── \u001b[01;35m1042_b1e1a7b8-0aec80e8.jpg\u001b[00m\r\n",
      "    │   ├── \u001b[01;35m1044590_93395406-2777c722.jpg\u001b[00m\r\n",
      "    │   ├── \u001b[01;35m1046_b1e1a7b8-0aec80e8.jpg\u001b[00m\r\n",
      "    │   ├── \u001b[01;35m1093181_99e9d816-7fdd0a07.jpg\u001b[00m\r\n",
      "    │   ├── \u001b[01;35m1179119_a5a7b92e-3448f13d.jpg\u001b[00m\r\n",
      "    │   ├── \u001b[01;35m1192304_a7825612-cceb24d2.jpg\u001b[00m\r\n",
      "    │   ├── \u001b[01;35m1253079_af5e53ae-49d487fa.jpg\u001b[00m\r\n",
      "    │   ├── \u001b[01;35m130547_c346c42b-748697b5.jpg\u001b[00m\r\n",
      "    │   ├── \u001b[01;35m130548_c346c42b-748697b5.jpg\u001b[00m\r\n",
      "    │   ├── \u001b[01;35m130945_c359e7b1-5b68aea4.jpg\u001b[00m\r\n",
      "    │   ├── \u001b[01;35m134324_c3c2eb65-3af33302.jpg\u001b[00m\r\n",
      "    │   ├── \u001b[01;35m134325_c3c2eb65-3af33302.jpg\u001b[00m\r\n",
      "    │   ├── \u001b[01;35m146915_c56ad92a-ef30489c.jpg\u001b[00m\r\n",
      "    │   ├── \u001b[01;35m148501_c59500f0-64edb242.jpg\u001b[00m\r\n",
      "    │   ├── \u001b[01;35m148578_c59500f0-f26be735.jpg\u001b[00m\r\n",
      "    │   ├── \u001b[01;35m148584_c59500f0-f26be735.jpg\u001b[00m\r\n",
      "    │   ├── \u001b[01;35m148585_c59500f0-f26be735.jpg\u001b[00m\r\n",
      "    │   ├── \u001b[01;35m148586_c59500f0-f26be735.jpg\u001b[00m\r\n",
      "    │   ├── \u001b[01;35m148587_c59500f0-f26be735.jpg\u001b[00m\r\n",
      "    │   ├── \u001b[01;35m153486_c6313a48-d945108a.jpg\u001b[00m\r\n",
      "    │   ├── \u001b[01;35m15528_b3e18480-6c84e030.jpg\u001b[00m\r\n",
      "    │   ├── \u001b[01;35m244773_222d61fa-ee7b4d29.jpg\u001b[00m\r\n",
      "    │   ├── \u001b[01;35m283275_277ff2e0-172d190b.jpg\u001b[00m\r\n",
      "    │   ├── \u001b[01;35m325556_2daed639-ef89b802.jpg\u001b[00m\r\n",
      "    │   ├── \u001b[01;35m366910_33883f58-c2143c9d.jpg\u001b[00m\r\n",
      "    │   ├── \u001b[01;35m408270_394b4715-7bbbc3bc.jpg\u001b[00m\r\n",
      "    │   ├── \u001b[01;35m44909_06b49335-a4533ec7.jpg\u001b[00m\r\n",
      "    │   ├── \u001b[01;35m487797_44c9ee2d-f597642d.jpg\u001b[00m\r\n",
      "    │   ├── \u001b[01;35m5161_00b1dfed-a89dbe2b.jpg\u001b[00m\r\n",
      "    │   ├── \u001b[01;35m556124_4eba8eae-7d43f1cd.jpg\u001b[00m\r\n",
      "    │   ├── \u001b[01;35m66896_bafcc992-dcddfe75.jpg\u001b[00m\r\n",
      "    │   ├── \u001b[01;35m68160_09993b50-7578df99.jpg\u001b[00m\r\n",
      "    │   ├── \u001b[01;35m75281_bc0932fb-f2731c60.jpg\u001b[00m\r\n",
      "    │   ├── \u001b[01;35m764457_6bf1a64a-00ead052.jpg\u001b[00m\r\n",
      "    │   ├── \u001b[01;35m82046_0b95721d-fb1789c4.jpg\u001b[00m\r\n",
      "    │   ├── \u001b[01;35m87713_0c8e4f10-b7727d75.jpg\u001b[00m\r\n",
      "    │   ├── \u001b[01;35m93076_0d30a992-984c8c78.jpg\u001b[00m\r\n",
      "    │   ├── \u001b[01;35m935637_8413f861-571de01a.jpg\u001b[00m\r\n",
      "    │   └── \u001b[01;35m949778_86057623-b99744cb.jpg\u001b[00m\r\n",
      "    ├── \u001b[01;34m3\u001b[00m\r\n",
      "    │   └── \u001b[01;35m598385_5479e2fd-a2bbe092.jpg\u001b[00m\r\n",
      "    ├── \u001b[01;34m6\u001b[00m\r\n",
      "    │   ├── \u001b[01;35m1044_b1e1a7b8-0aec80e8.jpg\u001b[00m\r\n",
      "    │   ├── \u001b[01;35m181959_c9ee0f8e-286c0acb.jpg\u001b[00m\r\n",
      "    │   ├── \u001b[01;35m262947_248a4806-8abbf072.jpg\u001b[00m\r\n",
      "    │   └── \u001b[01;35m536279_4bfac9ce-e9f106e0.jpg\u001b[00m\r\n",
      "    ├── \u001b[01;34m7\u001b[00m\r\n",
      "    │   ├── \u001b[01;35m645854_5afedacd-e1539fc0.jpg\u001b[00m\r\n",
      "    │   └── \u001b[01;35m967221_8893e4e4-0b361043.jpg\u001b[00m\r\n",
      "    ├── \u001b[01;34m8\u001b[00m\r\n",
      "    │   ├── \u001b[01;35m108466_c0771fb7-d03aa33e.jpg\u001b[00m\r\n",
      "    │   └── \u001b[01;35m702459_631973a4-69af569f.jpg\u001b[00m\r\n",
      "    └── \u001b[01;34m9\u001b[00m\r\n",
      "        ├── \u001b[01;35m109013_c080d56f-53b1cfaf.jpg\u001b[00m\r\n",
      "        ├── \u001b[01;35m146912_c56ad92a-ef30489c.jpg\u001b[00m\r\n",
      "        ├── \u001b[01;35m176546_18f3b2d1-4163de2e.jpg\u001b[00m\r\n",
      "        ├── \u001b[01;35m181967_c9ee0f8e-286c0acb.jpg\u001b[00m\r\n",
      "        ├── \u001b[01;35m336764_2f30d082-ae751abd.jpg\u001b[00m\r\n",
      "        ├── \u001b[01;35m34133_0505c36e-579b416c.jpg\u001b[00m\r\n",
      "        ├── \u001b[01;35m349886_30f47755-32a0e545.jpg\u001b[00m\r\n",
      "        └── \u001b[01;35m82475_bcf70f06-5bd41cdd.jpg\u001b[00m\r\n",
      "\r\n",
      "9 directories, 64 files\r\n"
     ]
    }
   ],
   "source": [
    "# Read result: A folder containing misrecognized images\n",
    "!cd ../../ && tree ./outputs/scene_prob_and_miss_rate/misrecognision_data"
   ]
  }
 ],
 "metadata": {
  "kernelspec": {
   "display_name": "Python 3",
   "language": "python",
   "name": "python3"
  },
  "language_info": {
   "codemirror_mode": {
    "name": "ipython",
    "version": 3
   },
   "file_extension": ".py",
   "mimetype": "text/x-python",
   "name": "python",
   "nbconvert_exporter": "python",
   "pygments_lexer": "ipython3",
   "version": "3.7.0"
  },
  "vscode": {
   "interpreter": {
    "hash": "df0893f56f349688326838aaeea0de204df53a132722cbd565e54b24a8fec5f6"
   }
  }
 },
 "nbformat": 4,
 "nbformat_minor": 5
}
